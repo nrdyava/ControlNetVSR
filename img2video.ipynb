{
 "cells": [
  {
   "cell_type": "code",
   "execution_count": 2,
   "id": "1cb00086-4a0b-4fc2-8011-f1169c802e98",
   "metadata": {},
   "outputs": [],
   "source": [
    "import cv2\n",
    "import os\n",
    "import numpy as np"
   ]
  },
  {
   "cell_type": "markdown",
   "id": "45977705-2597-4d69-bfd4-dce410cf5294",
   "metadata": {},
   "source": [
    "## Full Images"
   ]
  },
  {
   "cell_type": "code",
   "execution_count": 12,
   "id": "fad3c237-da48-4611-8b31-9f931abf8fb9",
   "metadata": {},
   "outputs": [],
   "source": [
    "image_folder = 'frames/sd-4x/000'\n",
    "video_name = 'sd-4x.mp4'"
   ]
  },
  {
   "cell_type": "code",
   "execution_count": 13,
   "id": "51623a68-46bd-4f0c-82c7-d01285fbcc06",
   "metadata": {},
   "outputs": [],
   "source": [
    "images = [img for img in os.listdir(image_folder) if img.endswith(\".png\")]\n",
    "images.sort(key=lambda x: int(x.split('.')[0]))\n",
    "\n",
    "frame = cv2.imread(os.path.join(image_folder, images[0]))\n",
    "\n",
    "height, width, layers = frame.shape\n",
    "\n",
    "fourcc = cv2.VideoWriter_fourcc(*'mp4v')\n",
    "video = cv2.VideoWriter(video_name, fourcc, 20, (width,height))\n",
    "\n",
    "for image in images:\n",
    "    video.write(cv2.imread(os.path.join(image_folder, image)))\n",
    "\n",
    "video.release()"
   ]
  },
  {
   "cell_type": "markdown",
   "id": "2c47c800-369b-4be7-8cbb-5d7594c40e26",
   "metadata": {},
   "source": [
    "## Centre Crop Images"
   ]
  },
  {
   "cell_type": "code",
   "execution_count": null,
   "id": "b8e6fd7d-5554-4048-a5ef-7758dec21df6",
   "metadata": {},
   "outputs": [],
   "source": []
  },
  {
   "cell_type": "code",
   "execution_count": null,
   "id": "6df1b3d2-0566-4f0b-8dba-afae96c24f0b",
   "metadata": {},
   "outputs": [],
   "source": []
  },
  {
   "cell_type": "code",
   "execution_count": null,
   "id": "65ce76da-352b-4e18-a888-142c4abf330a",
   "metadata": {},
   "outputs": [],
   "source": []
  },
  {
   "cell_type": "code",
   "execution_count": null,
   "id": "1747962c-6bdd-41e7-8e1d-15888fb6f5e3",
   "metadata": {},
   "outputs": [],
   "source": []
  },
  {
   "cell_type": "code",
   "execution_count": null,
   "id": "9abcc40b-a99a-4944-bd2a-9df5ee7c8f13",
   "metadata": {},
   "outputs": [],
   "source": []
  },
  {
   "cell_type": "code",
   "execution_count": null,
   "id": "3e40b4cd-c24b-416d-b6ad-f1d5bbc89ea1",
   "metadata": {},
   "outputs": [],
   "source": []
  },
  {
   "cell_type": "code",
   "execution_count": null,
   "id": "dda62121-36e5-4511-885c-861f7a008fd1",
   "metadata": {},
   "outputs": [],
   "source": []
  },
  {
   "cell_type": "code",
   "execution_count": null,
   "id": "65d87ff7-1b82-4f1e-be09-21741b1f6ec9",
   "metadata": {},
   "outputs": [],
   "source": []
  },
  {
   "cell_type": "code",
   "execution_count": null,
   "id": "d36aa652-091a-48b8-9ed6-a32e5c57ca37",
   "metadata": {},
   "outputs": [],
   "source": []
  },
  {
   "cell_type": "code",
   "execution_count": null,
   "id": "ff4d1bb0-84e5-4aef-86a6-a67776c418a4",
   "metadata": {},
   "outputs": [],
   "source": []
  },
  {
   "cell_type": "code",
   "execution_count": null,
   "id": "402829fd-aeef-4d5b-ae7e-13dfe124e411",
   "metadata": {},
   "outputs": [],
   "source": []
  },
  {
   "cell_type": "code",
   "execution_count": null,
   "id": "c3745c90-4885-4d5e-a78b-fc2e057d3aa7",
   "metadata": {},
   "outputs": [],
   "source": []
  },
  {
   "cell_type": "code",
   "execution_count": null,
   "id": "c6fe34bb-44f7-4e64-8064-b70cde2fe550",
   "metadata": {},
   "outputs": [],
   "source": []
  },
  {
   "cell_type": "code",
   "execution_count": null,
   "id": "4ab8727b-f3e1-4edc-9d73-aae4e3bb295a",
   "metadata": {},
   "outputs": [],
   "source": []
  },
  {
   "cell_type": "code",
   "execution_count": null,
   "id": "410fb41f-7af7-4362-99bd-da7e983ff5eb",
   "metadata": {},
   "outputs": [],
   "source": []
  },
  {
   "cell_type": "code",
   "execution_count": null,
   "id": "79d53858-f5b9-415f-809a-e0ddfe3b83ec",
   "metadata": {},
   "outputs": [],
   "source": []
  },
  {
   "cell_type": "code",
   "execution_count": null,
   "id": "f9d899e9-fc48-4741-b65d-e3bfa53899ce",
   "metadata": {},
   "outputs": [],
   "source": []
  }
 ],
 "metadata": {
  "kernelspec": {
   "display_name": "Python 3 (ipykernel)",
   "language": "python",
   "name": "python3"
  },
  "language_info": {
   "codemirror_mode": {
    "name": "ipython",
    "version": 3
   },
   "file_extension": ".py",
   "mimetype": "text/x-python",
   "name": "python",
   "nbconvert_exporter": "python",
   "pygments_lexer": "ipython3",
   "version": "3.11.9"
  }
 },
 "nbformat": 4,
 "nbformat_minor": 5
}
