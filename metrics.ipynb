{
 "cells": [
  {
   "cell_type": "markdown",
   "id": "c4be161b-5086-4de0-b4c0-8a0f1adb3068",
   "metadata": {},
   "source": [
    "## Import Libraries"
   ]
  },
  {
   "cell_type": "code",
   "execution_count": 1,
   "id": "e4c3b589-3e9a-4df9-82be-8b303fd183d7",
   "metadata": {},
   "outputs": [
    {
     "name": "stderr",
     "output_type": "stream",
     "text": [
      "/home/nd2794/miniconda3/envs/vsr/lib/python3.11/site-packages/tqdm/auto.py:21: TqdmWarning: IProgress not found. Please update jupyter and ipywidgets. See https://ipywidgets.readthedocs.io/en/stable/user_install.html\n",
      "  from .autonotebook import tqdm as notebook_tqdm\n"
     ]
    }
   ],
   "source": [
    "from skimage.metrics import structural_similarity\n",
    "import cv2\n",
    "import lpips\n",
    "import torchvision\n",
    "import torch\n",
    "import torchvision.transforms as Tvt\n",
    "from DISTS_pytorch import DISTS\n",
    "import os"
   ]
  },
  {
   "cell_type": "markdown",
   "id": "d13a330e-6cb7-43b5-97cf-54be7a49b2b2",
   "metadata": {},
   "source": [
    "## Set Parameters"
   ]
  },
  {
   "cell_type": "code",
   "execution_count": 2,
   "id": "36c44b11-d71e-4745-997d-0a2ad76c1853",
   "metadata": {},
   "outputs": [],
   "source": [
    "results_file_name = 'metrics_file_cn-200.txt'\n",
    "pred_type = 'cn-200'\n",
    "gt_dir = 'frames/hr'\n",
    "pred_dir = 'frames/{}'.format(pred_type)\n",
    "video_names = ['000', '011', '015', '020']\n",
    "img_nums = [i for i in range(100)]"
   ]
  },
  {
   "cell_type": "code",
   "execution_count": 3,
   "id": "5952cd1f-883b-49a0-9fc3-cb51807b9d0a",
   "metadata": {},
   "outputs": [
    {
     "data": {
      "text/plain": [
       "8"
      ]
     },
     "execution_count": 3,
     "metadata": {},
     "output_type": "execute_result"
    }
   ],
   "source": [
    "file = open(results_file_name, \"w\")\n",
    "file.write('{}\\nn'.format(pred_type))"
   ]
  },
  {
   "cell_type": "markdown",
   "id": "e09f7434-b9bb-469b-8d99-71b0e83d17c3",
   "metadata": {},
   "source": [
    "## PSNR Claculation"
   ]
  },
  {
   "cell_type": "code",
   "execution_count": 4,
   "id": "53b4823e-18ae-4892-9d17-21c0616b2bb3",
   "metadata": {},
   "outputs": [
    {
     "data": {
      "text/plain": [
       "31"
      ]
     },
     "execution_count": 4,
     "metadata": {},
     "output_type": "execute_result"
    }
   ],
   "source": [
    "file.write(\"PSNR \\n\\n\")\n",
    "psnr_global = []\n",
    "for vid in video_names:\n",
    "    psnr_local = []\n",
    "    for img in img_nums:\n",
    "        img1 = cv2.cvtColor(cv2.imread(os.path.join(gt_dir, vid, '{:08d}.png'.format(img))), cv2.COLOR_RGB2BGR)\n",
    "        img2 = cv2.cvtColor(cv2.imread(os.path.join(pred_dir, vid, '{:08d}.png'.format(img))), cv2.COLOR_RGB2BGR)\n",
    "        temp = cv2.PSNR(img1, img2)\n",
    "        psnr_local.append(temp)\n",
    "    psnr_vid = sum(psnr_local)/len(psnr_local)\n",
    "    psnr_global.append(psnr_vid)\n",
    "    file.write(\"PSNR_{}: {}\\n\".format(vid, psnr_vid))\n",
    "psnr_total = sum(psnr_global)/len(psnr_global)\n",
    "file.write(\"PSNR_TOTAL: {}\\n\".format(psnr_total))"
   ]
  },
  {
   "cell_type": "markdown",
   "id": "874c3273-725c-419c-aaa3-e9a5080eb34e",
   "metadata": {},
   "source": [
    "## SSIM Calculation"
   ]
  },
  {
   "cell_type": "code",
   "execution_count": 5,
   "id": "a76857ed-4c71-4df2-8db3-842e67495e2c",
   "metadata": {},
   "outputs": [
    {
     "data": {
      "text/plain": [
       "31"
      ]
     },
     "execution_count": 5,
     "metadata": {},
     "output_type": "execute_result"
    }
   ],
   "source": [
    "file.write(\"\\n\\n SSIM \\n\\n\")\n",
    "\n",
    "ssim_global = []\n",
    "for vid in video_names:\n",
    "    ssim_local = []\n",
    "    for img in img_nums:\n",
    "        img1 = cv2.cvtColor(cv2.imread(os.path.join(gt_dir, vid, '{:08d}.png'.format(img))), cv2.COLOR_RGB2BGR)\n",
    "        img2 = cv2.cvtColor(cv2.imread(os.path.join(pred_dir, vid, '{:08d}.png'.format(img))), cv2.COLOR_RGB2BGR)\n",
    "        (score, diff) = structural_similarity(img1, img2, channel_axis = 2, full=True)\n",
    "        ssim_local.append(score)\n",
    "    ssim_vid = sum(ssim_local)/len(ssim_local)\n",
    "    ssim_global.append(ssim_vid)\n",
    "    file.write(\"SSIM_{}: {}\\n\".format(vid, ssim_vid))\n",
    "ssim_total = sum(ssim_global)/len(ssim_global)\n",
    "file.write(\"SSIM_TOTAL: {}\\n\\n\".format(ssim_total))"
   ]
  },
  {
   "cell_type": "markdown",
   "id": "75fa6410-c94b-442d-bcf1-c0c88d5df374",
   "metadata": {},
   "source": [
    "## LPIPS"
   ]
  },
  {
   "cell_type": "code",
   "execution_count": 6,
   "id": "f62e6428-b97e-45a9-8d07-623604ca4cb3",
   "metadata": {},
   "outputs": [
    {
     "name": "stdout",
     "output_type": "stream",
     "text": [
      "Setting up [LPIPS] perceptual loss: trunk [alex], v[0.1], spatial [off]\n"
     ]
    },
    {
     "name": "stderr",
     "output_type": "stream",
     "text": [
      "/home/nd2794/miniconda3/envs/vsr/lib/python3.11/site-packages/torchvision/models/_utils.py:208: UserWarning: The parameter 'pretrained' is deprecated since 0.13 and may be removed in the future, please use 'weights' instead.\n",
      "  warnings.warn(\n",
      "/home/nd2794/miniconda3/envs/vsr/lib/python3.11/site-packages/torchvision/models/_utils.py:223: UserWarning: Arguments other than a weight enum or `None` for 'weights' are deprecated since 0.13 and may be removed in the future. The current behavior is equivalent to passing `weights=AlexNet_Weights.IMAGENET1K_V1`. You can also use `weights=AlexNet_Weights.DEFAULT` to get the most up-to-date weights.\n",
      "  warnings.warn(msg)\n"
     ]
    },
    {
     "name": "stdout",
     "output_type": "stream",
     "text": [
      "Loading model from: /home/nd2794/miniconda3/envs/vsr/lib/python3.11/site-packages/lpips/weights/v0.1/alex.pth\n"
     ]
    }
   ],
   "source": [
    "loss_fn_alex = lpips.LPIPS(net='alex').to('cuda')"
   ]
  },
  {
   "cell_type": "code",
   "execution_count": 7,
   "id": "eae78124-4bc6-4f15-a7f7-a72ec7c0d245",
   "metadata": {},
   "outputs": [
    {
     "data": {
      "text/plain": [
       "34"
      ]
     },
     "execution_count": 7,
     "metadata": {},
     "output_type": "execute_result"
    }
   ],
   "source": [
    "file.write(\"\\n\\n LPIPS \\n\\n\")\n",
    "\n",
    "lpips_global = []\n",
    "for vid in video_names:\n",
    "    lpips_local = []\n",
    "    for img in img_nums:\n",
    "        img1 = Tvt.Normalize(mean=0.5, std=0.5)(Tvt.ConvertImageDtype(torch.float32)(torchvision.io.read_image(os.path.join(gt_dir, vid, '{:08d}.png'.format(img)))))\n",
    "        img1 = torch.unsqueeze(img1, 0).to('cuda')\n",
    "\n",
    "        img2 = Tvt.Normalize(mean=0.5, std=0.5)(Tvt.ConvertImageDtype(torch.float32)(torchvision.io.read_image(os.path.join(pred_dir, vid, '{:08d}.png'.format(img)))))\n",
    "        img2 = torch.unsqueeze(img2, 0).to('cuda')\n",
    "\n",
    "        score = loss_fn_alex(img1, img2).cpu().detach().numpy()[0, 0, 0, 0]\n",
    "        \n",
    "        lpips_local.append(score)\n",
    "    lpips_vid = sum(lpips_local)/len(lpips_local)\n",
    "    lpips_global.append(lpips_vid)\n",
    "    file.write(\"LPIPS_{}: {}\\n\".format(vid, lpips_vid))\n",
    "lpips_total = sum(lpips_global)/len(lpips_global)\n",
    "file.write(\"LPIPS_TOTAL: {}\\n\\n\".format(lpips_total))"
   ]
  },
  {
   "cell_type": "markdown",
   "id": "eb19a35c-1cd2-48e5-ac1c-38ded96e23c5",
   "metadata": {},
   "source": [
    "## DISTS"
   ]
  },
  {
   "cell_type": "code",
   "execution_count": 8,
   "id": "a40689f6-0691-44a6-b927-e3362f0f763b",
   "metadata": {},
   "outputs": [
    {
     "name": "stderr",
     "output_type": "stream",
     "text": [
      "/home/nd2794/miniconda3/envs/vsr/lib/python3.11/site-packages/torchvision/models/_utils.py:223: UserWarning: Arguments other than a weight enum or `None` for 'weights' are deprecated since 0.13 and may be removed in the future. The current behavior is equivalent to passing `weights=VGG16_Weights.IMAGENET1K_V1`. You can also use `weights=VGG16_Weights.DEFAULT` to get the most up-to-date weights.\n",
      "  warnings.warn(msg)\n"
     ]
    }
   ],
   "source": [
    "D = DISTS()\n",
    "D.to('cuda')\n",
    "pass"
   ]
  },
  {
   "cell_type": "code",
   "execution_count": 9,
   "id": "c69e0f42-61c0-4438-9e10-ac9b4b6ccecd",
   "metadata": {},
   "outputs": [
    {
     "data": {
      "text/plain": [
       "34"
      ]
     },
     "execution_count": 9,
     "metadata": {},
     "output_type": "execute_result"
    }
   ],
   "source": [
    "file.write(\"\\n\\n DISTS \\n\\n\")\n",
    "\n",
    "dists_global = []\n",
    "for vid in video_names:\n",
    "    dists_local = []\n",
    "    for img in img_nums:\n",
    "        img1 = Tvt.Normalize(mean=0.5, std=0.5)(Tvt.ConvertImageDtype(torch.float32)(torchvision.io.read_image(os.path.join(gt_dir, vid, '{:08d}.png'.format(img)))))\n",
    "        img1 = img1/2.0+0.5\n",
    "        img1 = torch.unsqueeze(img1, 0).to('cuda')\n",
    "\n",
    "        img2 = Tvt.Normalize(mean=0.5, std=0.5)(Tvt.ConvertImageDtype(torch.float32)(torchvision.io.read_image(os.path.join(pred_dir, vid, '{:08d}.png'.format(img)))))\n",
    "        img2 = img2/2.0+0.5\n",
    "        img2 = torch.unsqueeze(img2, 0).to('cuda')\n",
    "\n",
    "        score = loss_fn_alex(img1, img2).cpu().detach().numpy()[0, 0, 0, 0]\n",
    "        \n",
    "        dists_local.append(score)\n",
    "    dists_vid = sum(dists_local)/len(dists_local)\n",
    "    dists_global.append(dists_vid)\n",
    "    file.write(\"DISTS_{}: {}\\n\".format(vid, dists_vid))\n",
    "dists_total = sum(dists_global)/len(dists_global)\n",
    "file.write(\"DISTS_TOTAL: {}\\n\\n\".format(dists_total))"
   ]
  },
  {
   "cell_type": "code",
   "execution_count": 10,
   "id": "26157f51-5aca-47bc-9448-58a7d8d0a65d",
   "metadata": {},
   "outputs": [],
   "source": [
    "file.close()"
   ]
  },
  {
   "cell_type": "code",
   "execution_count": null,
   "id": "d518e157-02ed-4a3f-993e-af88d2186b17",
   "metadata": {},
   "outputs": [],
   "source": []
  },
  {
   "cell_type": "code",
   "execution_count": null,
   "id": "b8eedf5d-a5c1-47cf-887e-09b7438ef24f",
   "metadata": {},
   "outputs": [],
   "source": []
  }
 ],
 "metadata": {
  "kernelspec": {
   "display_name": "Python 3 (ipykernel)",
   "language": "python",
   "name": "python3"
  },
  "language_info": {
   "codemirror_mode": {
    "name": "ipython",
    "version": 3
   },
   "file_extension": ".py",
   "mimetype": "text/x-python",
   "name": "python",
   "nbconvert_exporter": "python",
   "pygments_lexer": "ipython3",
   "version": "3.11.9"
  }
 },
 "nbformat": 4,
 "nbformat_minor": 5
}
