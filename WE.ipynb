{
 "cells": [
  {
   "cell_type": "code",
   "execution_count": 20,
   "id": "6df45e26-8cde-44ca-bf91-69955bb93eeb",
   "metadata": {},
   "outputs": [],
   "source": [
    "import cv2\n",
    "import os\n",
    "import numpy as np"
   ]
  },
  {
   "cell_type": "code",
   "execution_count": null,
   "id": "24bf3246-7ddf-4955-b9b4-ecdab5ce0be4",
   "metadata": {},
   "outputs": [],
   "source": []
  },
  {
   "cell_type": "code",
   "execution_count": 21,
   "id": "e1d77861-e959-46f1-9da5-a4e7becee8b8",
   "metadata": {},
   "outputs": [],
   "source": [
    "def read_frames_from_folder(folder_path):\n",
    "    frame_paths = sorted([os.path.join(folder_path, frame) for frame in os.listdir(folder_path)])\n",
    "    frames = [cv2.imread(frame_path) for frame_path in frame_paths]\n",
    "    return frames"
   ]
  },
  {
   "cell_type": "code",
   "execution_count": null,
   "id": "25ba67cb-be66-4b12-a7b6-18720397b275",
   "metadata": {},
   "outputs": [],
   "source": []
  },
  {
   "cell_type": "code",
   "execution_count": 22,
   "id": "191b6a47-7ad5-45a4-8c58-5875822e3440",
   "metadata": {},
   "outputs": [],
   "source": [
    "def compute_warping_error(frames_orig, frames_proc):\n",
    "    total_error = 0\n",
    "    frame_count = 0\n",
    "\n",
    "    for frame_orig, frame_proc in zip(frames_orig, frames_proc):\n",
    "        # Convert frames to grayscale\n",
    "        prev_gray = cv2.cvtColor(frame_orig, cv2.COLOR_BGR2GRAY)\n",
    "        next_gray = cv2.cvtColor(frame_proc, cv2.COLOR_BGR2GRAY)\n",
    "\n",
    "        # Calculate optical flow (motion vectors)\n",
    "        flow = cv2.calcOpticalFlowFarneback(prev_gray, next_gray, None, 0.5, 3, 15, 3, 5, 1.2, 0)\n",
    "\n",
    "        # Warp frame_orig using the calculated flow\n",
    "        h, w = frame_orig.shape[:2]\n",
    "        warped_frame_orig = cv2.remap(frame_orig, -flow[:, :, 0], -flow[:, :, 1], cv2.INTER_LINEAR)\n",
    "\n",
    "        # Compute warping error (e.g., mean squared error)\n",
    "        error = np.mean((warped_frame_orig - frame_proc)**2)\n",
    "        total_error += error\n",
    "        frame_count += 1\n",
    "\n",
    "    # Compute average warping error\n",
    "    average_error = total_error / frame_count\n",
    "    return average_error"
   ]
  },
  {
   "cell_type": "code",
   "execution_count": 34,
   "id": "789af4bb-e0d6-4ec7-8657-2c7720453600",
   "metadata": {},
   "outputs": [],
   "source": [
    "# Folder paths for original and processed frames\n",
    "original_folder = 'frames/hr/000'\n",
    "processed_folder = 'frames/hr/000'"
   ]
  },
  {
   "cell_type": "code",
   "execution_count": 35,
   "id": "c062808d-7d5d-4515-800a-692d1b152b01",
   "metadata": {},
   "outputs": [],
   "source": [
    "frames_orig = read_frames_from_folder(original_folder)\n",
    "frames_proc = read_frames_from_folder(processed_folder)"
   ]
  },
  {
   "cell_type": "code",
   "execution_count": 36,
   "id": "de9d3fdc-a033-444d-a9ec-0358d33e7044",
   "metadata": {},
   "outputs": [
    {
     "name": "stdout",
     "output_type": "stream",
     "text": [
      "Average Warping Error: 104.84251562754312\n"
     ]
    }
   ],
   "source": [
    "warping_error = compute_warping_error(frames_orig, frames_proc)\n",
    "print(\"Average Warping Error:\", warping_error)"
   ]
  },
  {
   "cell_type": "code",
   "execution_count": null,
   "id": "78b1d8c3-942e-46f0-b684-3e04b17ab46b",
   "metadata": {},
   "outputs": [],
   "source": []
  },
  {
   "cell_type": "code",
   "execution_count": null,
   "id": "5729f537-410f-49de-9fa6-de6641e5eceb",
   "metadata": {},
   "outputs": [],
   "source": []
  },
  {
   "cell_type": "code",
   "execution_count": null,
   "id": "75e84582-62f2-4974-af8d-23e6d03b32fa",
   "metadata": {},
   "outputs": [],
   "source": []
  }
 ],
 "metadata": {
  "kernelspec": {
   "display_name": "Python 3 (ipykernel)",
   "language": "python",
   "name": "python3"
  },
  "language_info": {
   "codemirror_mode": {
    "name": "ipython",
    "version": 3
   },
   "file_extension": ".py",
   "mimetype": "text/x-python",
   "name": "python",
   "nbconvert_exporter": "python",
   "pygments_lexer": "ipython3",
   "version": "3.11.9"
  }
 },
 "nbformat": 4,
 "nbformat_minor": 5
}
