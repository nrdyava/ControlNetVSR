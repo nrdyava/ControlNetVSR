{
 "cells": [
  {
   "cell_type": "code",
   "execution_count": 2,
   "id": "ba6d9887-f839-4343-8caa-af53dcd5e8e1",
   "metadata": {},
   "outputs": [],
   "source": [
    "import cv2\n",
    "import os\n",
    "import numpy as np"
   ]
  },
  {
   "cell_type": "markdown",
   "id": "4714c331-56af-4eb1-81be-127af9f9dac5",
   "metadata": {},
   "source": [
    "## train sharp"
   ]
  },
  {
   "cell_type": "code",
   "execution_count": 10,
   "id": "7f92559a-9263-44b4-a9b9-d67da4fa4fdf",
   "metadata": {},
   "outputs": [
    {
     "data": {
      "text/plain": [
       "(720, 1280, 3)"
      ]
     },
     "execution_count": 10,
     "metadata": {},
     "output_type": "execute_result"
    }
   ],
   "source": [
    "image_folder = 'data/train/train_sharp/000/'\n",
    "images = [img for img in os.listdir(image_folder) if img.endswith(\".png\")]\n",
    "images.sort(key=lambda x: int(x.split('.')[0]))\n",
    "frame = cv2.imread(os.path.join(image_folder, images[0]))\n",
    "frame.shape"
   ]
  },
  {
   "cell_type": "markdown",
   "id": "9e4d046c-95b6-4772-bcae-a81c1427fd91",
   "metadata": {},
   "source": [
    "## train sharp bicubic"
   ]
  },
  {
   "cell_type": "code",
   "execution_count": 12,
   "id": "a0bf7c35-1e13-4c5d-b9f8-232cc0cd4981",
   "metadata": {},
   "outputs": [
    {
     "data": {
      "text/plain": [
       "(180, 320, 3)"
      ]
     },
     "execution_count": 12,
     "metadata": {},
     "output_type": "execute_result"
    }
   ],
   "source": [
    "image_folder = 'data/train/train_sharp_bicubic/X4/000/'\n",
    "images = [img for img in os.listdir(image_folder) if img.endswith(\".png\")]\n",
    "images.sort(key=lambda x: int(x.split('.')[0]))\n",
    "frame = cv2.imread(os.path.join(image_folder, images[0]))\n",
    "frame.shape"
   ]
  },
  {
   "cell_type": "markdown",
   "id": "2411cff5-b066-401f-8161-6fb8384c3779",
   "metadata": {},
   "source": [
    "## val sharp"
   ]
  },
  {
   "cell_type": "code",
   "execution_count": 14,
   "id": "eb876a9b-703c-41b3-89e3-a80c98a28cfd",
   "metadata": {},
   "outputs": [
    {
     "data": {
      "text/plain": [
       "(720, 1280, 3)"
      ]
     },
     "execution_count": 14,
     "metadata": {},
     "output_type": "execute_result"
    }
   ],
   "source": [
    "image_folder = 'data/val/val_sharp/000/'\n",
    "images = [img for img in os.listdir(image_folder) if img.endswith(\".png\")]\n",
    "images.sort(key=lambda x: int(x.split('.')[0]))\n",
    "frame = cv2.imread(os.path.join(image_folder, images[0]))\n",
    "frame.shape"
   ]
  },
  {
   "cell_type": "markdown",
   "id": "e00e2bde-9bd5-44c0-b434-1706f837464a",
   "metadata": {},
   "source": [
    "## val sharp bicubic"
   ]
  },
  {
   "cell_type": "code",
   "execution_count": 15,
   "id": "f047f529-768a-43f3-b1b0-2245cbfe8fb3",
   "metadata": {},
   "outputs": [
    {
     "data": {
      "text/plain": [
       "(180, 320, 3)"
      ]
     },
     "execution_count": 15,
     "metadata": {},
     "output_type": "execute_result"
    }
   ],
   "source": [
    "image_folder = 'data/val/val_sharp_bicubic/X4/000/'\n",
    "images = [img for img in os.listdir(image_folder) if img.endswith(\".png\")]\n",
    "images.sort(key=lambda x: int(x.split('.')[0]))\n",
    "frame = cv2.imread(os.path.join(image_folder, images[0]))\n",
    "frame.shape"
   ]
  },
  {
   "cell_type": "code",
   "execution_count": null,
   "id": "56bdf781-ea1c-42f1-850e-eb2cec91f795",
   "metadata": {},
   "outputs": [],
   "source": []
  },
  {
   "cell_type": "code",
   "execution_count": null,
   "id": "68b8c6d8-dedd-4f1e-b337-0baad06da538",
   "metadata": {},
   "outputs": [],
   "source": []
  },
  {
   "cell_type": "code",
   "execution_count": null,
   "id": "1a935aac-ce78-4538-893d-a364ddf49902",
   "metadata": {},
   "outputs": [],
   "source": []
  },
  {
   "cell_type": "code",
   "execution_count": null,
   "id": "efca0f67-fd08-428d-9e40-1c902b2460d3",
   "metadata": {},
   "outputs": [],
   "source": []
  },
  {
   "cell_type": "code",
   "execution_count": null,
   "id": "f3c0bdc5-ed36-4d61-8084-8bb9c5ef571d",
   "metadata": {},
   "outputs": [],
   "source": []
  },
  {
   "cell_type": "code",
   "execution_count": null,
   "id": "31ac0212-9672-4fc4-843d-f1ea7f6584b4",
   "metadata": {},
   "outputs": [],
   "source": []
  }
 ],
 "metadata": {
  "kernelspec": {
   "display_name": "Python 3 (ipykernel)",
   "language": "python",
   "name": "python3"
  },
  "language_info": {
   "codemirror_mode": {
    "name": "ipython",
    "version": 3
   },
   "file_extension": ".py",
   "mimetype": "text/x-python",
   "name": "python",
   "nbconvert_exporter": "python",
   "pygments_lexer": "ipython3",
   "version": "3.11.9"
  }
 },
 "nbformat": 4,
 "nbformat_minor": 5
}
