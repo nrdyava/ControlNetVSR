{
 "cells": [
  {
   "cell_type": "code",
   "execution_count": 1,
   "id": "62d1e001-690c-4227-9d2b-9fb4011c6df1",
   "metadata": {},
   "outputs": [],
   "source": [
    "import requests\n",
    "from PIL import Image\n",
    "from io import BytesIO\n",
    "import torch\n",
    "import os"
   ]
  },
  {
   "cell_type": "code",
   "execution_count": 2,
   "id": "89adcea6-51ee-4fed-af01-a3621ddcac59",
   "metadata": {},
   "outputs": [],
   "source": [
    "def center_crop(image, new_width, new_height):\n",
    "    width, height = image.size\n",
    "    left = (width - new_width) // 2\n",
    "    top = (height - new_height) // 2\n",
    "    right = (width + new_width) // 2\n",
    "    bottom = (height + new_height) // 2\n",
    "    return image.crop((left, top, right, bottom))"
   ]
  },
  {
   "cell_type": "code",
   "execution_count": 3,
   "id": "3e5cd4e0-e3b3-43c8-ad91-55e63513321e",
   "metadata": {},
   "outputs": [],
   "source": [
    "img_nums = [i for i in range(100)]"
   ]
  },
  {
   "cell_type": "markdown",
   "id": "1300d81f-751d-496c-a417-d57c58553bdf",
   "metadata": {},
   "source": [
    "## LR Frames"
   ]
  },
  {
   "cell_type": "code",
   "execution_count": 4,
   "id": "ef98b706-a838-4213-9130-762193dab39f",
   "metadata": {},
   "outputs": [],
   "source": [
    "root = 'data/test/test_sharp_bicubic/X4'\n",
    "root_save = \"frames/lr\""
   ]
  },
  {
   "cell_type": "code",
   "execution_count": 5,
   "id": "65fe4666-ab02-48f3-9d0e-28a0dee70d35",
   "metadata": {},
   "outputs": [],
   "source": [
    "new_width = 128\n",
    "new_height = 128"
   ]
  },
  {
   "cell_type": "code",
   "execution_count": 6,
   "id": "b8626076-c036-44ac-a628-8b5f324397ec",
   "metadata": {},
   "outputs": [],
   "source": [
    "vid_num = '000'\n",
    "for img in img_nums:\n",
    "    im =  Image.open(os.path.join(root, vid_num, '{:08d}.png'.format(img))).convert(\"RGB\")\n",
    "    cropped_im = center_crop(im, new_width, new_height)\n",
    "    cropped_im.save(os.path.join(root_save, vid_num, '{:08d}.png'.format(img)), format=\"PNG\")"
   ]
  },
  {
   "cell_type": "code",
   "execution_count": 7,
   "id": "197150a4-dce5-420c-a6c1-ffccedb37a67",
   "metadata": {},
   "outputs": [],
   "source": [
    "vid_num = '011'\n",
    "for img in img_nums:\n",
    "    im =  Image.open(os.path.join(root, vid_num, '{:08d}.png'.format(img))).convert(\"RGB\")\n",
    "    cropped_im = center_crop(im, new_width, new_height)\n",
    "    cropped_im.save(os.path.join(root_save, vid_num, '{:08d}.png'.format(img)), format=\"PNG\")"
   ]
  },
  {
   "cell_type": "code",
   "execution_count": 8,
   "id": "16da1a5b-0f0b-4af7-bf3d-05e36a15f663",
   "metadata": {},
   "outputs": [],
   "source": [
    "vid_num = '015'\n",
    "for img in img_nums:\n",
    "    im =  Image.open(os.path.join(root, vid_num, '{:08d}.png'.format(img))).convert(\"RGB\")\n",
    "    cropped_im = center_crop(im, new_width, new_height)\n",
    "    cropped_im.save(os.path.join(root_save, vid_num, '{:08d}.png'.format(img)), format=\"PNG\")"
   ]
  },
  {
   "cell_type": "code",
   "execution_count": 9,
   "id": "e2e2777f-70d1-439d-9251-f367c1f28a47",
   "metadata": {},
   "outputs": [],
   "source": [
    "vid_num = '020'\n",
    "for img in img_nums:\n",
    "    im =  Image.open(os.path.join(root, vid_num, '{:08d}.png'.format(img))).convert(\"RGB\")\n",
    "    cropped_im = center_crop(im, new_width, new_height)\n",
    "    cropped_im.save(os.path.join(root_save, vid_num, '{:08d}.png'.format(img)), format=\"PNG\")"
   ]
  },
  {
   "cell_type": "markdown",
   "id": "26088fad-b6c7-42e8-a8f3-e8183ad7a79b",
   "metadata": {},
   "source": [
    "## HR Frames"
   ]
  },
  {
   "cell_type": "code",
   "execution_count": 10,
   "id": "117a84bb-1e8d-4091-8d38-ab53a8f207a8",
   "metadata": {},
   "outputs": [],
   "source": [
    "root = 'data/test/test_sharp'\n",
    "root_save = \"frames/hr\""
   ]
  },
  {
   "cell_type": "code",
   "execution_count": 11,
   "id": "7840f16e-8c3f-457d-aa02-dbfc7f0be1bc",
   "metadata": {},
   "outputs": [],
   "source": [
    "new_width = 512\n",
    "new_height = 512"
   ]
  },
  {
   "cell_type": "code",
   "execution_count": 12,
   "id": "fa4a8b5a-62e1-4111-af8a-4a3f551822bf",
   "metadata": {},
   "outputs": [],
   "source": [
    "vid_num = '000'\n",
    "for img in img_nums:\n",
    "    im =  Image.open(os.path.join(root, vid_num, '{:08d}.png'.format(img))).convert(\"RGB\")\n",
    "    cropped_im = center_crop(im, new_width, new_height)\n",
    "    cropped_im.save(os.path.join(root_save, vid_num, '{:08d}.png'.format(img)), format=\"PNG\")"
   ]
  },
  {
   "cell_type": "code",
   "execution_count": 13,
   "id": "1cec9a27-a93f-4c99-8ac8-34eacb9e91fc",
   "metadata": {},
   "outputs": [],
   "source": [
    "vid_num = '011'\n",
    "for img in img_nums:\n",
    "    im =  Image.open(os.path.join(root, vid_num, '{:08d}.png'.format(img))).convert(\"RGB\")\n",
    "    cropped_im = center_crop(im, new_width, new_height)\n",
    "    cropped_im.save(os.path.join(root_save, vid_num, '{:08d}.png'.format(img)), format=\"PNG\")"
   ]
  },
  {
   "cell_type": "code",
   "execution_count": 14,
   "id": "0c9329d7-bb4e-4a56-b61f-45354c86c890",
   "metadata": {},
   "outputs": [],
   "source": [
    "vid_num = '015'\n",
    "for img in img_nums:\n",
    "    im =  Image.open(os.path.join(root, vid_num, '{:08d}.png'.format(img))).convert(\"RGB\")\n",
    "    cropped_im = center_crop(im, new_width, new_height)\n",
    "    cropped_im.save(os.path.join(root_save, vid_num, '{:08d}.png'.format(img)), format=\"PNG\")"
   ]
  },
  {
   "cell_type": "code",
   "execution_count": 15,
   "id": "7fa01c65-810f-49d8-8eea-a9f31465e5c0",
   "metadata": {},
   "outputs": [],
   "source": [
    "vid_num = '020'\n",
    "for img in img_nums:\n",
    "    im =  Image.open(os.path.join(root, vid_num, '{:08d}.png'.format(img))).convert(\"RGB\")\n",
    "    cropped_im = center_crop(im, new_width, new_height)\n",
    "    cropped_im.save(os.path.join(root_save, vid_num, '{:08d}.png'.format(img)), format=\"PNG\")"
   ]
  }
 ],
 "metadata": {
  "kernelspec": {
   "display_name": "Python 3 (ipykernel)",
   "language": "python",
   "name": "python3"
  },
  "language_info": {
   "codemirror_mode": {
    "name": "ipython",
    "version": 3
   },
   "file_extension": ".py",
   "mimetype": "text/x-python",
   "name": "python",
   "nbconvert_exporter": "python",
   "pygments_lexer": "ipython3",
   "version": "3.11.9"
  }
 },
 "nbformat": 4,
 "nbformat_minor": 5
}
